{
 "cells": [
  {
   "cell_type": "code",
   "execution_count": 29,
   "metadata": {},
   "outputs": [],
   "source": [
    "# Importing the libraries\n",
    "import tensorflow as tf\n",
    "from tensorflow.keras.preprocessing.image import ImageDataGenerator"
   ]
  },
  {
   "cell_type": "code",
   "execution_count": 30,
   "metadata": {},
   "outputs": [
    {
     "name": "stdout",
     "output_type": "stream",
     "text": [
      "Found 198 images belonging to 2 classes.\n"
     ]
    }
   ],
   "source": [
    "#data sugmentation\n",
    "# Preprocessing the Training set\n",
    "datagen = ImageDataGenerator(rescale=1./255,validation_split=0.22)\n",
    "training_set = datagen.flow_from_directory('train',\n",
    "                                            target_size=(224,224),\n",
    "                                            color_mode=\"rgb\",\n",
    "                                            subset=\"training\",\n",
    "                                            class_mode=\"binary\",\n",
    "                                            batch_size=32,\n",
    "                                            shuffle=True)"
   ]
  },
  {
   "cell_type": "code",
   "execution_count": 31,
   "metadata": {},
   "outputs": [
    {
     "name": "stdout",
     "output_type": "stream",
     "text": [
      "Found 55 images belonging to 2 classes.\n"
     ]
    }
   ],
   "source": [
    "valid_generator=datagen.flow_from_directory( directory=\"train\",\n",
    "                                                target_size=(224,224),\n",
    "                                                color_mode=\"rgb\",\n",
    "                                                subset=\"validation\",\n",
    "                                                class_mode=\"binary\",\n",
    "                                                batch_size=32,\n",
    "                                                shuffle=True)"
   ]
  },
  {
   "cell_type": "code",
   "execution_count": 32,
   "metadata": {},
   "outputs": [
    {
     "data": {
      "text/plain": [
       "{'class_no': 0, 'class_yes': 1}"
      ]
     },
     "execution_count": 32,
     "metadata": {},
     "output_type": "execute_result"
    }
   ],
   "source": [
    "training_set.class_indices"
   ]
  },
  {
   "cell_type": "code",
   "execution_count": 33,
   "metadata": {},
   "outputs": [],
   "source": [
    "import tensorflow_hub as hub "
   ]
  },
  {
   "cell_type": "code",
   "execution_count": 34,
   "metadata": {},
   "outputs": [],
   "source": [
    "BATCH_SIZE = 5\n",
    "IMG_SHAPE = 224 # match image dimension to mobile net input keep smae"
   ]
  },
  {
   "cell_type": "code",
   "execution_count": 35,
   "metadata": {},
   "outputs": [],
   "source": [
    "# getting MobileNet\n",
    "URL = \"https://tfhub.dev/google/tf2-preview/mobilenet_v2/feature_vector/4\"\n",
    "mobile_net = hub.KerasLayer(URL, input_shape=(IMG_SHAPE, IMG_SHAPE, 3))"
   ]
  },
  {
   "cell_type": "code",
   "execution_count": 36,
   "metadata": {},
   "outputs": [],
   "source": [
    "mobile_net.trainable = False"
   ]
  },
  {
   "cell_type": "code",
   "execution_count": 37,
   "metadata": {},
   "outputs": [],
   "source": [
    "model = tf.keras.models.Sequential([\n",
    "    mobile_net,\n",
    "    ### ann layer\n",
    "    tf.keras.layers.Dense(1, activation='sigmoid') #[0, 1] or [1, 0]\n",
    "    ])"
   ]
  },
  {
   "cell_type": "code",
   "execution_count": 38,
   "metadata": {},
   "outputs": [],
   "source": [
    "model.compile(optimizer='adam',\n",
    "              loss='binary_crossentropy',\n",
    "              metrics=['accuracy'])"
   ]
  },
  {
   "cell_type": "code",
   "execution_count": 39,
   "metadata": {},
   "outputs": [
    {
     "name": "stdout",
     "output_type": "stream",
     "text": [
      "Epoch 1/10\n",
      "7/7 [==============================] - 32s 1s/step - loss: 0.7839 - accuracy: 0.5152 - val_loss: 0.7415 - val_accuracy: 0.5818\n",
      "Epoch 2/10\n",
      "7/7 [==============================] - 5s 749ms/step - loss: 0.6634 - accuracy: 0.6111 - val_loss: 0.6595 - val_accuracy: 0.6182\n",
      "Epoch 3/10\n",
      "7/7 [==============================] - 4s 522ms/step - loss: 0.5831 - accuracy: 0.7222 - val_loss: 0.5993 - val_accuracy: 0.6182\n",
      "Epoch 4/10\n",
      "7/7 [==============================] - 5s 658ms/step - loss: 0.5159 - accuracy: 0.7929 - val_loss: 0.5599 - val_accuracy: 0.6727\n",
      "Epoch 5/10\n",
      "7/7 [==============================] - 4s 519ms/step - loss: 0.4745 - accuracy: 0.8030 - val_loss: 0.5134 - val_accuracy: 0.7273\n",
      "Epoch 6/10\n",
      "7/7 [==============================] - 4s 539ms/step - loss: 0.4349 - accuracy: 0.8485 - val_loss: 0.4859 - val_accuracy: 0.7455\n",
      "Epoch 7/10\n",
      "7/7 [==============================] - 4s 601ms/step - loss: 0.4076 - accuracy: 0.8586 - val_loss: 0.4586 - val_accuracy: 0.7455\n",
      "Epoch 8/10\n",
      "7/7 [==============================] - 4s 580ms/step - loss: 0.3813 - accuracy: 0.8586 - val_loss: 0.4427 - val_accuracy: 0.7455\n",
      "Epoch 9/10\n",
      "7/7 [==============================] - 4s 574ms/step - loss: 0.3616 - accuracy: 0.8737 - val_loss: 0.4251 - val_accuracy: 0.7455\n",
      "Epoch 10/10\n",
      "7/7 [==============================] - 4s 539ms/step - loss: 0.3488 - accuracy: 0.8687 - val_loss: 0.4311 - val_accuracy: 0.7455\n"
     ]
    }
   ],
   "source": [
    "history = model.fit(\n",
    "    training_set,\n",
    "    epochs=10,\n",
    "    validation_data=valid_generator\n",
    "    )"
   ]
  },
  {
   "cell_type": "code",
   "execution_count": 40,
   "metadata": {},
   "outputs": [
    {
     "data": {
      "text/plain": [
       "array([[0.39445272]], dtype=float32)"
      ]
     },
     "execution_count": 40,
     "metadata": {},
     "output_type": "execute_result"
    }
   ],
   "source": [
    "# Part 4 - Making a single prediction test\n",
    "import numpy as np\n",
    "from tensorflow.keras.preprocessing import image\n",
    "test_image = image.load_img('9 no.jpg', target_size = (224,224))\n",
    "test_image = image.img_to_array(test_image)\n",
    "test_image=test_image/255\n",
    "test_image = np.expand_dims(test_image, axis = 0)\n",
    "result = model.predict(test_image)\n",
    "result"
   ]
  },
  {
   "cell_type": "code",
   "execution_count": 41,
   "metadata": {},
   "outputs": [
    {
     "name": "stdout",
     "output_type": "stream",
     "text": [
      "No BrainTumor\n"
     ]
    }
   ],
   "source": [
    "if result[0]<=0.5:\n",
    "    print(\"No BrainTumor\")\n",
    "else:\n",
    "    print(\"BrainTumor\")"
   ]
  },
  {
   "cell_type": "code",
   "execution_count": 42,
   "metadata": {},
   "outputs": [],
   "source": [
    "#save model\n",
    "from tensorflow.keras.models import load_model\n",
    "model.save('brain_tumor.h5')"
   ]
  }
 ],
 "metadata": {
  "kernelspec": {
   "display_name": "Python 3 (ipykernel)",
   "language": "python",
   "name": "python3"
  },
  "language_info": {
   "codemirror_mode": {
    "name": "ipython",
    "version": 3
   },
   "file_extension": ".py",
   "mimetype": "text/x-python",
   "name": "python",
   "nbconvert_exporter": "python",
   "pygments_lexer": "ipython3",
   "version": "3.9.7"
  }
 },
 "nbformat": 4,
 "nbformat_minor": 4
}
